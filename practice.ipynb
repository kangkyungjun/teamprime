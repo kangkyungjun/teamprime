{
 "cells": [
  {
   "cell_type": "code",
   "execution_count": 1,
   "id": "1d6a6f76",
   "metadata": {},
   "outputs": [
    {
     "name": "stdout",
     "output_type": "stream",
     "text": [
      "KRW  보유: 426808.34338982, 주문 중: 0, 평균 매수가: 0\n",
      "ETH  보유: 0, 주문 중: 0.01775631, 평균 매수가: 6010000\n",
      "BTT  보유: 106634638.04212345, 주문 중: 0, 평균 매수가: 0.00095188\n",
      "META  보유: 616.14294516, 주문 중: 0, 평균 매수가: 32.46\n",
      "FCT2  보유: 701.59027128, 주문 중: 0, 평균 매수가: 42.76\n",
      "APENFT  보유: 280434.69932267, 주문 중: 0, 평균 매수가: 0\n",
      "NU  보유: 66.25406707, 주문 중: 0, 평균 매수가: 452.80239118\n",
      "WEMIX  보유: 5.58575908, 주문 중: 0, 평균 매수가: 5370.80090461\n",
      "ETHW  보유: 0.00843828, 주문 중: 0, 평균 매수가: 0\n",
      "ETHF  보유: 0.00843828, 주문 중: 0, 평균 매수가: 0\n",
      "ASTR  보유: 565.61085972, 주문 중: 0, 평균 매수가: 35.36\n",
      "XCORE  보유: 0.56403679, 주문 중: 0, 평균 매수가: 0\n",
      "MEW  보유: 0, 주문 중: 4541.32606721, 평균 매수가: 4.404\n",
      "MOCA  보유: 176.52250661, 주문 중: 0, 평균 매수가: 113.3\n"
     ]
    }
   ],
   "source": [
    "import jwt\n",
    "import uuid\n",
    "import requests\n",
    "from urllib.parse import urlencode\n",
    "import time\n",
    "\n",
    "# 발급받은 API 키 입력\n",
    "ACCESS_KEY = \"2rkP3GACS2fsh0ycsZxdHZl2d2TPKiD7Vq8qf0Ra\"\n",
    "SECRET_KEY = \"XEubKRYXb41UbfJxDI26xe9PdRi2CP6ohhHPIiWB\"\n",
    "\n",
    "# JWT 생성\n",
    "def make_headers(query=None):\n",
    "    payload = {\n",
    "        \"access_key\": ACCESS_KEY,\n",
    "        \"nonce\": str(uuid.uuid4()),   # 요청 고유값\n",
    "    }\n",
    "\n",
    "    if query:\n",
    "        q_string = urlencode(query).encode()\n",
    "        payload[\"query\"] = q_string\n",
    "\n",
    "    jwt_token = jwt.encode(payload, SECRET_KEY, algorithm=\"HS256\")\n",
    "    authorization = f\"Bearer {jwt_token}\"\n",
    "    headers = {\"Authorization\": authorization}\n",
    "    return headers\n",
    "\n",
    "# 내 계좌 정보 조회\n",
    "url = \"https://api.upbit.com/v1/accounts\"\n",
    "res = requests.get(url, headers=make_headers())\n",
    "res.raise_for_status()\n",
    "\n",
    "for acc in res.json():\n",
    "    currency = acc['currency']\n",
    "    balance = acc['balance']\n",
    "    locked = acc['locked']\n",
    "    avg_buy_price = acc['avg_buy_price']\n",
    "    print(f\"{currency}  보유: {balance}, 주문 중: {locked}, 평균 매수가: {avg_buy_price}\")\n"
   ]
  }
 ],
 "metadata": {
  "kernelspec": {
   "display_name": "base",
   "language": "python",
   "name": "python3"
  },
  "language_info": {
   "codemirror_mode": {
    "name": "ipython",
    "version": 3
   },
   "file_extension": ".py",
   "mimetype": "text/x-python",
   "name": "python",
   "nbconvert_exporter": "python",
   "pygments_lexer": "ipython3",
   "version": "3.12.7"
  }
 },
 "nbformat": 4,
 "nbformat_minor": 5
}
